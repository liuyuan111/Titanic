{
 "cells": [
  {
   "cell_type": "code",
   "execution_count": 47,
   "metadata": {},
   "outputs": [],
   "source": [
    "import warnings\n",
    "warnings.filterwarnings('ignore')#忽略一些警告\n",
    "import pandas as pd\n",
    "from sklearn.model_selection import cross_val_score\n",
    "from sklearn import tree"
   ]
  },
  {
   "cell_type": "code",
   "execution_count": 48,
   "metadata": {},
   "outputs": [
    {
     "name": "stdout",
     "output_type": "stream",
     "text": [
      "   PassengerId  Survived  Pclass  \\\n",
      "0            1         0       3   \n",
      "1            2         1       1   \n",
      "2            3         1       3   \n",
      "3            4         1       1   \n",
      "4            5         0       3   \n",
      "\n",
      "                                                Name     Sex   Age  SibSp  \\\n",
      "0                            Braund, Mr. Owen Harris    male  22.0      1   \n",
      "1  Cumings, Mrs. John Bradley (Florence Briggs Th...  female  38.0      1   \n",
      "2                             Heikkinen, Miss. Laina  female  26.0      0   \n",
      "3       Futrelle, Mrs. Jacques Heath (Lily May Peel)  female  35.0      1   \n",
      "4                           Allen, Mr. William Henry    male  35.0      0   \n",
      "\n",
      "   Parch            Ticket     Fare Cabin Embarked  \n",
      "0      0         A/5 21171   7.2500   NaN        S  \n",
      "1      0          PC 17599  71.2833   C85        C  \n",
      "2      0  STON/O2. 3101282   7.9250   NaN        S  \n",
      "3      0            113803  53.1000  C123        S  \n",
      "4      0            373450   8.0500   NaN        S  \n"
     ]
    }
   ],
   "source": [
    "df = pd.read_csv('train.csv')\n",
    "print(df.head())"
   ]
  },
  {
   "cell_type": "code",
   "execution_count": 49,
   "metadata": {},
   "outputs": [
    {
     "name": "stdout",
     "output_type": "stream",
     "text": [
      "<class 'pandas.core.frame.DataFrame'>\n",
      "RangeIndex: 891 entries, 0 to 890\n",
      "Data columns (total 12 columns):\n",
      "PassengerId    891 non-null int64\n",
      "Survived       891 non-null int64\n",
      "Pclass         891 non-null int64\n",
      "Name           891 non-null object\n",
      "Sex            891 non-null object\n",
      "Age            714 non-null float64\n",
      "SibSp          891 non-null int64\n",
      "Parch          891 non-null int64\n",
      "Ticket         891 non-null object\n",
      "Fare           891 non-null float64\n",
      "Cabin          204 non-null object\n",
      "Embarked       889 non-null object\n",
      "dtypes: float64(2), int64(5), object(5)\n",
      "memory usage: 83.6+ KB\n",
      "None\n"
     ]
    }
   ],
   "source": [
    "print(df.info())"
   ]
  },
  {
   "cell_type": "markdown",
   "metadata": {},
   "source": [
    "数据解释：Survived（0表示死亡，1表示幸存）：\n",
    "\n",
    "PassengerId ：乘客ID\n",
    "Pclass ：乘客等级(1/2/3等舱位)\n",
    "Name ： 乘客姓名\n",
    "Sex ： 性别\n",
    "Age ： 年龄\n",
    "SibSp ： 堂兄弟/妹个数\n",
    "Parch ： 父母与小孩个数\n",
    "Ticket ： 船票信息\n",
    "Fare =：票价\n",
    "Cabin ： 客舱\n",
    "Embarked ： 登船港口\n",
    "一共891条数据，年龄和客舱数据有缺失"
   ]
  },
  {
   "cell_type": "code",
   "execution_count": 50,
   "metadata": {},
   "outputs": [
    {
     "name": "stdout",
     "output_type": "stream",
     "text": [
      "<class 'pandas.core.frame.DataFrame'>\n",
      "RangeIndex: 891 entries, 0 to 890\n",
      "Data columns (total 3 columns):\n",
      "Pclass    891 non-null int64\n",
      "Age       714 non-null float64\n",
      "Sex       891 non-null object\n",
      "dtypes: float64(1), int64(1), object(1)\n",
      "memory usage: 21.0+ KB\n"
     ]
    }
   ],
   "source": [
    "X = df[['Pclass','Age','Sex']]\n",
    "Y = df['Survived']\n",
    "X.info()"
   ]
  },
  {
   "cell_type": "code",
   "execution_count": 51,
   "metadata": {},
   "outputs": [],
   "source": [
    " #借由上面的输出，我们设计如下几个数据处理的任务：\n",
    "# 1) age这个数据列，只有633个，需要补完。\n",
    "# 2) sex 与 pclass两个数据列的值都是类别型的，需要转化为数值特征，用0/1代替。\n",
    "# 首先我们补充age里的数据，使用平均数或者中位数都是对模型偏离造成最小影响的策略。\n"
   ]
  },
  {
   "cell_type": "code",
   "execution_count": 52,
   "metadata": {},
   "outputs": [
    {
     "name": "stdout",
     "output_type": "stream",
     "text": [
      "29.69911764705882\n",
      "28.0\n",
      "0    24.0\n",
      "dtype: float64\n"
     ]
    }
   ],
   "source": [
    "print(df.Age.mean())\n",
    "print(df.Age.median()) \n",
    "print(df.Age.mode()) "
   ]
  },
  {
   "cell_type": "markdown",
   "metadata": {},
   "source": [
    "中位数，众数，平均数都是29.69，就用它填充缺失值"
   ]
  },
  {
   "cell_type": "code",
   "execution_count": 53,
   "metadata": {},
   "outputs": [],
   "source": [
    "df.Age.fillna(df.Age.mean(),inplace=True)"
   ]
  },
  {
   "cell_type": "markdown",
   "metadata": {},
   "source": [
    "由于从df.head()中也可以看到客舱数据是类似于C85，C123等数据，这个数据本身对预测船上的人是否可以逃生应该是有帮助的，比如这个客舱位置是否靠近逃生通道，与撞击冰山的位置的远近等等，但由于没有相关的领域知识，而且数据缺失严重，考虑不把这个数据作为特征。年龄数据可以补充缺失值，一般可以用平均值来进行填充，我们先看一下有年龄数据的这些人的年龄平均值是多少。"
   ]
  },
  {
   "cell_type": "markdown",
   "metadata": {},
   "source": [
    "基本的数据处理完毕后，就进入到特征选择环节了，这一块的话主要是会基于domain knowledge去选择一些特征，对于能否最后幸存，像姓名之类的一般无关。总体考虑下来像年龄，性别决定了个人的体力好坏，客舱级别也是一定的逃生的参考因素，以及是否有兄弟小孩也很有可能影响一个人是否能幸存，故而选取Pclass，Sex，Age，SibSp，Parch五个特征。当然这一块就如前所说通过领域知识和背景知识还可以创造出更多的特征，但这里也不是很熟练该如何创造特征，所以就先使用这五个特征。其中Sex给的是male和female由于是分类变量，算法识别不了字符串，还需要处理，将其变为0,1这样的数值,可以利用sklearn中的preprocessing"
   ]
  },
  {
   "cell_type": "code",
   "execution_count": 54,
   "metadata": {
    "scrolled": true
   },
   "outputs": [
    {
     "name": "stdout",
     "output_type": "stream",
     "text": [
      "0      1\n",
      "1      0\n",
      "2      0\n",
      "3      0\n",
      "4      1\n",
      "5      1\n",
      "6      1\n",
      "7      1\n",
      "8      0\n",
      "9      0\n",
      "10     0\n",
      "11     0\n",
      "12     1\n",
      "13     1\n",
      "14     0\n",
      "15     0\n",
      "16     1\n",
      "17     1\n",
      "18     0\n",
      "19     0\n",
      "20     1\n",
      "21     1\n",
      "22     0\n",
      "23     1\n",
      "24     0\n",
      "25     0\n",
      "26     1\n",
      "27     1\n",
      "28     0\n",
      "29     1\n",
      "      ..\n",
      "861    1\n",
      "862    0\n",
      "863    0\n",
      "864    1\n",
      "865    0\n",
      "866    0\n",
      "867    1\n",
      "868    1\n",
      "869    1\n",
      "870    1\n",
      "871    0\n",
      "872    1\n",
      "873    1\n",
      "874    0\n",
      "875    0\n",
      "876    1\n",
      "877    1\n",
      "878    1\n",
      "879    0\n",
      "880    0\n",
      "881    1\n",
      "882    0\n",
      "883    1\n",
      "884    1\n",
      "885    0\n",
      "886    1\n",
      "887    0\n",
      "888    0\n",
      "889    1\n",
      "890    1\n",
      "Name: Sex, Length: 891, dtype: int64\n"
     ]
    }
   ],
   "source": [
    "from sklearn.preprocessing import LabelEncoder\n",
    "le = LabelEncoder()\n",
    "le.fit(df['Sex'])\n",
    "#用离散值转化标签值\n",
    "df['Sex'] = le.transform(df['Sex'])\n",
    "print(df.Sex)\n",
    "#男1  女0"
   ]
  },
  {
   "cell_type": "code",
   "execution_count": 55,
   "metadata": {},
   "outputs": [],
   "source": [
    "from sklearn.cross_validation import train_test_split\n",
    "X_train, X_test, y_train, y_test = train_test_split(X, Y, test_size=0.25, random_state = 33)"
   ]
  },
  {
   "cell_type": "markdown",
   "metadata": {},
   "source": [
    "建模"
   ]
  },
  {
   "cell_type": "code",
   "execution_count": 56,
   "metadata": {},
   "outputs": [
    {
     "name": "stdout",
     "output_type": "stream",
     "text": [
      "0.8081456507175897\n"
     ]
    }
   ],
   "source": [
    "features = ['Pclass','Sex','Age','SibSp','Parch']\n",
    "X = df[features]\n",
    "y = df['Survived']\n",
    "dt = tree.DecisionTreeClassifier()\n",
    "score = cross_val_score(dt,X,y,cv=5,scoring='accuracy')\n",
    "import numpy as np\n",
    "print(np.mean(score))"
   ]
  },
  {
   "cell_type": "code",
   "execution_count": 57,
   "metadata": {},
   "outputs": [],
   "source": [
    "#准确度0.8047747223460495"
   ]
  },
  {
   "cell_type": "code",
   "execution_count": 59,
   "metadata": {},
   "outputs": [],
   "source": [
    "dt.fit(X,y)\n",
    "from sklearn.tree import export_graphviz   #通过graphviz绘制决策树\n",
    "with open('F:\\Machine Learning\\coding\\Titanic\\Titanic.dot','w') as f:\n",
    "    f = export_graphviz(dt,feature_names=['Pclass','Sex','Age','SibSp','Parch'],out_file=f)\n",
    "\n",
    "#export_graphviz第一个参数填入决策树的模型，feature_names填入参与的特征名，out_file即指定输出文件"
   ]
  },
  {
   "cell_type": "markdown",
   "metadata": {},
   "source": [
    "这时候运行完后就能产生一个.dot文件，这个我们打不开，需要去网上下载graphviz后安装，安装完后打开将其bin目录添加到电脑的环境变量中，通过 dot -Tpng 文件名 -o 输出文件名的形式进行转化，当然也可以dot -Tpdf的形式，运行后我们就会在目录下看到Titanic.png了"
   ]
  }
 ],
 "metadata": {
  "kernelspec": {
   "display_name": "Python 3",
   "language": "python",
   "name": "python3"
  },
  "language_info": {
   "codemirror_mode": {
    "name": "ipython",
    "version": 3
   },
   "file_extension": ".py",
   "mimetype": "text/x-python",
   "name": "python",
   "nbconvert_exporter": "python",
   "pygments_lexer": "ipython3",
   "version": "3.6.5"
  }
 },
 "nbformat": 4,
 "nbformat_minor": 2
}
